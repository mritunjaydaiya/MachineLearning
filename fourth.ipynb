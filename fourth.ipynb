{
 "cells": [
  {
   "cell_type": "markdown",
   "id": "24fc1a16-b342-4de4-a85c-e5eb3d5859a2",
   "metadata": {},
   "source": [
    "<h1> Implementation of K-nearest neighbour algorithm"
   ]
  },
  {
   "cell_type": "code",
   "execution_count": 2,
   "id": "8cd96c85-12f0-4a90-886c-b36d9ba23588",
   "metadata": {},
   "outputs": [],
   "source": [
    "import numpy as np\n",
    "import pandas as pd\n",
    "import matplotlib as plt"
   ]
  },
  {
   "cell_type": "code",
   "execution_count": 3,
   "id": "d5004134-4427-4684-8922-8ba63dc5b007",
   "metadata": {},
   "outputs": [],
   "source": [
    "data=pd.read_csv(\"IRIS.csv\")"
   ]
  },
  {
   "cell_type": "code",
   "execution_count": null,
   "id": "5e3bae44-1810-4133-89ab-c66a35b36e85",
   "metadata": {},
   "outputs": [],
   "source": []
  },
  {
   "cell_type": "markdown",
   "id": "771dbf5c-8406-40bc-a98a-b7250abd5f92",
   "metadata": {},
   "source": [
    "<h1>Preprocessing"
   ]
  },
  {
   "cell_type": "code",
   "execution_count": 4,
   "id": "ae50e43f-d3c2-474c-b9f8-46f5ad95b18e",
   "metadata": {},
   "outputs": [],
   "source": [
    "X=data.iloc[:,:-1].values\n",
    "Y=data.iloc[:,4].values\n",
    "#print(X,Y)"
   ]
  },
  {
   "cell_type": "code",
   "execution_count": 5,
   "id": "7b7720a9-cd9c-4035-bea1-446d4871251d",
   "metadata": {},
   "outputs": [],
   "source": [
    "from sklearn.model_selection import train_test_split\n",
    "X_train,X_test,Y_train,Y_test=train_test_split(X,Y,test_size=0.4)"
   ]
  },
  {
   "cell_type": "markdown",
   "id": "cd764c15-e22a-47a2-88dd-a409515b572e",
   "metadata": {},
   "source": [
    "<h1>Scaling"
   ]
  },
  {
   "cell_type": "code",
   "execution_count": 6,
   "id": "dc6bc60c-af18-4d24-af99-a226321a81c7",
   "metadata": {},
   "outputs": [],
   "source": [
    "from sklearn.preprocessing import StandardScaler\n",
    "Scaler=StandardScaler()\n",
    "Scaler.fit(X_train)\n",
    "X_train=Scaler.transform(X_train)\n",
    "X_test=Scaler.transform(X_test)\n"
   ]
  },
  {
   "cell_type": "markdown",
   "id": "41eb6791-20e6-43c1-ae0d-9648c91b1647",
   "metadata": {},
   "source": [
    "<h1>Training"
   ]
  },
  {
   "cell_type": "code",
   "execution_count": 7,
   "id": "e6b383bc-d9a7-4c7e-aa2b-7c4d4ac25987",
   "metadata": {},
   "outputs": [
    {
     "data": {
      "text/plain": [
       "KNeighborsClassifier(n_neighbors=8)"
      ]
     },
     "execution_count": 7,
     "metadata": {},
     "output_type": "execute_result"
    }
   ],
   "source": [
    "from sklearn.neighbors import KNeighborsClassifier\n",
    "classifier=KNeighborsClassifier(n_neighbors=8)\n",
    "classifier.fit(X_train,Y_train)"
   ]
  },
  {
   "cell_type": "markdown",
   "id": "be5a9ab4-d646-43bd-8a05-064d670ad8c8",
   "metadata": {},
   "source": [
    "<h1>Prediction"
   ]
  },
  {
   "cell_type": "code",
   "execution_count": 50,
   "id": "5cc6f2cb-8c8f-4b91-a699-5882db43eeb5",
   "metadata": {},
   "outputs": [
    {
     "data": {
      "text/plain": [
       "'Iris-versicolor'"
      ]
     },
     "execution_count": 50,
     "metadata": {},
     "output_type": "execute_result"
    }
   ],
   "source": [
    "y_pred=classifier.predict(X_test)\n",
    "y_pred[0]"
   ]
  },
  {
   "cell_type": "markdown",
   "id": "74f3de4f-9698-4830-be2e-8a21bd614bbf",
   "metadata": {},
   "source": [
    "<h1>Print"
   ]
  },
  {
   "cell_type": "code",
   "execution_count": 48,
   "id": "cac758ae-d309-40d8-beac-b7a76bc86dae",
   "metadata": {},
   "outputs": [
    {
     "name": "stdout",
     "output_type": "stream",
     "text": [
      "Classification Report :                  precision    recall  f1-score   support\n",
      "\n",
      "    Iris-setosa       1.00      1.00      1.00        20\n",
      "Iris-versicolor       0.95      1.00      0.98        21\n",
      " Iris-virginica       1.00      0.95      0.97        19\n",
      "\n",
      "       accuracy                           0.98        60\n",
      "      macro avg       0.98      0.98      0.98        60\n",
      "   weighted avg       0.98      0.98      0.98        60\n",
      "\n",
      "Accuracy Score: 0.9833333333333333\n"
     ]
    }
   ],
   "source": [
    "from sklearn.metrics import classification_report,accuracy_score\n",
    "result1=classification_report(Y_test,y_pred)\n",
    "print(\"Classification Report :\",result1)\n",
    "\n",
    "result2=accuracy_score(Y_test,y_pred)\n",
    "print(\"Accuracy Score:\",result2)"
   ]
  },
  {
   "cell_type": "code",
   "execution_count": null,
   "id": "b1cfa12e-6350-456b-b61c-cbf2bb98149f",
   "metadata": {},
   "outputs": [],
   "source": []
  },
  {
   "cell_type": "code",
   "execution_count": null,
   "id": "b6cd6c22-5bf3-46c2-85f2-d3eea1462ea1",
   "metadata": {},
   "outputs": [],
   "source": []
  }
 ],
 "metadata": {
  "kernelspec": {
   "display_name": "Python 3",
   "language": "python",
   "name": "python3"
  },
  "language_info": {
   "codemirror_mode": {
    "name": "ipython",
    "version": 3
   },
   "file_extension": ".py",
   "mimetype": "text/x-python",
   "name": "python",
   "nbconvert_exporter": "python",
   "pygments_lexer": "ipython3",
   "version": "3.8.8"
  }
 },
 "nbformat": 4,
 "nbformat_minor": 5
}
