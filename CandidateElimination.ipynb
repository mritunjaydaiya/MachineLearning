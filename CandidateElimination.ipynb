{
  "nbformat": 4,
  "nbformat_minor": 0,
  "metadata": {
    "colab": {
      "name": "CandidateElimination.ipynb",
      "provenance": []
    },
    "kernelspec": {
      "name": "python3",
      "display_name": "Python 3"
    },
    "language_info": {
      "name": "python"
    }
  },
  "cells": [
    {
      "cell_type": "code",
      "execution_count": 1,
      "metadata": {
        "id": "GMfpLRZ2v3xW"
      },
      "outputs": [],
      "source": [
        "import pandas as pd\n",
        "import numpy as np"
      ]
    },
    {
      "cell_type": "code",
      "source": [
        "data = pd.read_csv(\"Candidate_Elimination.csv\")\n",
        "print(data)\n",
        "concepts = np.array(data.iloc[:, :-1 ])\n",
        "print(\"\\n\\nInstances are : \", concepts)\n",
        "target = np.array(data.iloc[:,-1])\n",
        "print(\"\\n\\nTarger Values are : \", target)"
      ],
      "metadata": {
        "colab": {
          "base_uri": "https://localhost:8080/"
        },
        "id": "vNHZxpCuwWSa",
        "outputId": "300e3f13-5660-4970-d95a-01372d92ffb6"
      },
      "execution_count": 8,
      "outputs": [
        {
          "output_type": "stream",
          "name": "stdout",
          "text": [
            "     Sky Temperature   Humid    Wind Water  Forest Output\n",
            "0  sunny        warm  normal  strong  warm    same    yes\n",
            "1  sunny        warm    high  strong  warm    same    yes\n",
            "2  rainy        cold    high  strong  warm  change     no\n",
            "3  sunny        warm    high  strong  cool  change    yes\n",
            "\n",
            "\n",
            "Instances are :  [['sunny' 'warm' 'normal' 'strong' 'warm' 'same']\n",
            " ['sunny' 'warm' 'high' 'strong' 'warm' 'same']\n",
            " ['rainy' 'cold' 'high' 'strong' 'warm' 'change']\n",
            " ['sunny' 'warm' 'high' 'strong' 'cool' 'change']]\n",
            "\n",
            "\n",
            "Targer Values are :  ['yes' 'yes' 'no' 'yes']\n"
          ]
        }
      ]
    },
    {
      "cell_type": "code",
      "source": [
        "def learn(concepts, target):\n",
        "  specific_h = concepts[0].copy()\n",
        "  print(\"Initialization of Specific_h and General_h\")\n",
        "  print(\"Specific Boundary : \", specific_h)\n",
        "  general_h = [ ['?' for i in range(len(specific_h)) ] for i in range(len(specific_h)) ]\n",
        "  print(\"General Boundary : \", general_h)\n",
        "  for i, h in enumerate(concepts):\n",
        "    print( f\"Instance {i+1} is {h}\" )\n",
        "    if target[i] == \"yes\":\n",
        "      print(\"Instance is Positive : \")\n",
        "      for x in range ( len(specific_h)):\n",
        "        if h[x] != specific_h[x]:\n",
        "          specific_h[x]= \"?\"\n",
        "          general_h[x][x] = \"?\"\n",
        "    if target[i] == \"no\":\n",
        "      print(\"Instance is Negative : \")\n",
        "      for x in range ( len(specific_h) ):\n",
        "        if h[x] != specific_h[x]:\n",
        "          general_h[x][x] = specific_h[x]\n",
        "        else:\n",
        "          general_h[x][x] = '?'\n",
        "  print(f\"Specific Boundary After {i+1} instance is {specific_h} \")\n",
        "  print(f\"General Boundary After {i+1} instance is {general_h} \")\n",
        "  indices = [i for i, val in enumerate(general_h) if val == ['?','?','?','?','?','?']]\n",
        "  for i in indices:\n",
        "    general_h.remove(['?','?','?','?','?','?'])\n",
        "  return specific_h, general_h"
      ],
      "metadata": {
        "id": "Sgs3bRsIyu9N"
      },
      "execution_count": 19,
      "outputs": []
    },
    {
      "cell_type": "code",
      "source": [
        "s_final, g_final = learn(concepts, target)\n",
        "print(f\"Final Specific_h = {s_final}\")\n",
        "print(f\"Final General_h = {g_final}\")"
      ],
      "metadata": {
        "colab": {
          "base_uri": "https://localhost:8080/"
        },
        "id": "CsX42_gL0HdE",
        "outputId": "26a84843-f43d-4906-ec11-f4d5d659cafc"
      },
      "execution_count": 20,
      "outputs": [
        {
          "output_type": "stream",
          "name": "stdout",
          "text": [
            "Initialization of Specific_h and General_h\n",
            "Specific Boundary :  ['sunny' 'warm' 'normal' 'strong' 'warm' 'same']\n",
            "General Boundary :  [['?', '?', '?', '?', '?', '?'], ['?', '?', '?', '?', '?', '?'], ['?', '?', '?', '?', '?', '?'], ['?', '?', '?', '?', '?', '?'], ['?', '?', '?', '?', '?', '?'], ['?', '?', '?', '?', '?', '?']]\n",
            "Instance 1 is ['sunny' 'warm' 'normal' 'strong' 'warm' 'same']\n",
            "Instance is Positive : \n",
            "Instance 2 is ['sunny' 'warm' 'high' 'strong' 'warm' 'same']\n",
            "Instance is Positive : \n",
            "Instance 3 is ['rainy' 'cold' 'high' 'strong' 'warm' 'change']\n",
            "Instance is Negative : \n",
            "Instance 4 is ['sunny' 'warm' 'high' 'strong' 'cool' 'change']\n",
            "Instance is Positive : \n",
            "Specific Boundary After 4 instance is ['sunny' 'warm' '?' 'strong' '?' '?'] \n",
            "General Boundary After 4 instance is [['sunny', '?', '?', '?', '?', '?'], ['?', 'warm', '?', '?', '?', '?'], ['?', '?', '?', '?', '?', '?'], ['?', '?', '?', '?', '?', '?'], ['?', '?', '?', '?', '?', '?'], ['?', '?', '?', '?', '?', '?']] \n",
            "Final Specific_h = ['sunny' 'warm' '?' 'strong' '?' '?']\n",
            "Final General_h = [['sunny', '?', '?', '?', '?', '?'], ['?', 'warm', '?', '?', '?', '?']]\n"
          ]
        }
      ]
    },
    {
      "cell_type": "code",
      "source": [
        ""
      ],
      "metadata": {
        "id": "AGpDsHdg61yT"
      },
      "execution_count": null,
      "outputs": []
    }
  ]
}