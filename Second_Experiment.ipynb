{
 "cells": [
  {
   "cell_type": "markdown",
   "id": "90ad790f-1036-4774-ba71-e5424a73c20e",
   "metadata": {},
   "source": [
    "import numpy as np\n",
    "import pandas as pd"
   ]
  },
  {
   "cell_type": "markdown",
   "id": "7ea164dc-4597-461f-a53c-fbc5dbd96783",
   "metadata": {},
   "source": [
    "<h1>READ CSV FILE AND PRINT"
   ]
  },
  {
   "cell_type": "code",
   "execution_count": 10,
   "id": "7479adea-ff8e-4bfd-8ebd-dda04cafe884",
   "metadata": {},
   "outputs": [],
   "source": [
    "df=pd.read_csv(r\"C:\\Users\\rathi\\anaconda3\\data_set\\Candidate_eliminitation.csv\")"
   ]
  },
  {
   "cell_type": "markdown",
   "id": "2b278396-83c6-4c27-862b-cd6e232e1a4b",
   "metadata": {},
   "source": [
    " <h1>Making an array of all the attribute                                                                            "
   ]
  },
  {
   "cell_type": "code",
   "execution_count": 11,
   "id": "a2e48626-2e31-41d5-b896-f5c0e67ab2c1",
   "metadata": {},
   "outputs": [
    {
     "data": {
      "text/html": [
       "<div>\n",
       "<style scoped>\n",
       "    .dataframe tbody tr th:only-of-type {\n",
       "        vertical-align: middle;\n",
       "    }\n",
       "\n",
       "    .dataframe tbody tr th {\n",
       "        vertical-align: top;\n",
       "    }\n",
       "\n",
       "    .dataframe thead th {\n",
       "        text-align: right;\n",
       "    }\n",
       "</style>\n",
       "<table border=\"1\" class=\"dataframe\">\n",
       "  <thead>\n",
       "    <tr style=\"text-align: right;\">\n",
       "      <th></th>\n",
       "      <th>Sky</th>\n",
       "      <th>Temp</th>\n",
       "      <th>Humid</th>\n",
       "      <th>Wind</th>\n",
       "      <th>Water</th>\n",
       "      <th>Forest</th>\n",
       "      <th>Output</th>\n",
       "    </tr>\n",
       "  </thead>\n",
       "  <tbody>\n",
       "    <tr>\n",
       "      <th>0</th>\n",
       "      <td>Sunny</td>\n",
       "      <td>Warm</td>\n",
       "      <td>Normal</td>\n",
       "      <td>Strong</td>\n",
       "      <td>Warm</td>\n",
       "      <td>Same</td>\n",
       "      <td>Yes</td>\n",
       "    </tr>\n",
       "    <tr>\n",
       "      <th>1</th>\n",
       "      <td>Sunny</td>\n",
       "      <td>Warm</td>\n",
       "      <td>High</td>\n",
       "      <td>Strong</td>\n",
       "      <td>Warm</td>\n",
       "      <td>Same</td>\n",
       "      <td>Yes</td>\n",
       "    </tr>\n",
       "    <tr>\n",
       "      <th>2</th>\n",
       "      <td>Rainy</td>\n",
       "      <td>Cold</td>\n",
       "      <td>High</td>\n",
       "      <td>Strong</td>\n",
       "      <td>Warm</td>\n",
       "      <td>Change</td>\n",
       "      <td>No</td>\n",
       "    </tr>\n",
       "    <tr>\n",
       "      <th>3</th>\n",
       "      <td>Sunny</td>\n",
       "      <td>Warm</td>\n",
       "      <td>High</td>\n",
       "      <td>Strong</td>\n",
       "      <td>Cool</td>\n",
       "      <td>Change</td>\n",
       "      <td>Yes</td>\n",
       "    </tr>\n",
       "  </tbody>\n",
       "</table>\n",
       "</div>"
      ],
      "text/plain": [
       "     Sky  Temp   Humid    Wind Water  Forest Output\n",
       "0  Sunny  Warm  Normal  Strong  Warm    Same    Yes\n",
       "1  Sunny  Warm    High  Strong  Warm    Same    Yes\n",
       "2  Rainy  Cold    High  Strong  Warm  Change     No\n",
       "3  Sunny  Warm    High  Strong  Cool  Change    Yes"
      ]
     },
     "execution_count": 11,
     "metadata": {},
     "output_type": "execute_result"
    }
   ],
   "source": [
    "concepts=np.array(df.iloc[:,0:-1])\n",
    "#print(\"Instance are:\\n\",concepts)\n",
    "df.head()"
   ]
  },
  {
   "cell_type": "markdown",
   "id": "d16d3dc8-25ab-401c-817b-33a1eb1f6614",
   "metadata": {},
   "source": [
    "<h1>Making an array of target value"
   ]
  },
  {
   "cell_type": "code",
   "execution_count": 12,
   "id": "aa74ac86-6d28-4e78-bac1-70b85be10e80",
   "metadata": {},
   "outputs": [
    {
     "name": "stdout",
     "output_type": "stream",
     "text": [
      "Target values are: ['Yes' 'Yes' 'No' 'Yes']\n"
     ]
    }
   ],
   "source": [
    "target=np.array(df.iloc[:,-1])\n",
    "print(\"Target values are:\",target)"
   ]
  },
  {
   "cell_type": "markdown",
   "id": "bd82ca70-0ec8-407b-8d82-0c123133ce8c",
   "metadata": {},
   "source": [
    "<h1>Training function and implement candidate eliminaion"
   ]
  },
  {
   "cell_type": "code",
   "execution_count": 13,
   "id": "35bc77cf-0c6a-4289-bc12-1c819f69c853",
   "metadata": {},
   "outputs": [],
   "source": [
    "def learn(concepts,target):\n",
    "    specific_h=concepts[0].copy()\n",
    "    print(\"Initialization of Specific_h and general_h\")\n",
    "    print(\"Specific_Boundary:\",specific_h)\n",
    "    general_h=[[\"?\"for i in range(len(specific_h))] for i in range(len(specific_h))]\n",
    "    print(\"Generic Boundarries:\",general_h)\n",
    "    for i,h in enumerate(concepts):\n",
    "        print(\"Instance:\",i+1,\"is\",h)\n",
    "        if target[i]==\"Yes\":\n",
    "            print(\"Instance is positive\")\n",
    "            for x in range(len(specific_h)):\n",
    "                if h[x]!=specific_h[x]:\n",
    "                    specific_h[x]='?'\n",
    "                    general_h[x][x]=\"?\"\n",
    "                \n",
    "        if target[i]==\"No\":\n",
    "            print(\"Instance is Negative\")\n",
    "            for x in range(len(specific_h)):\n",
    "                if h[x]!=specific_h[x]:\n",
    "                    general_h[x][x]=specific_h[x]\n",
    "                else:\n",
    "                    general_h[x][x]=\"?\"\n",
    "    print(\"The specific boundary  after:\",i+1,\"intance is:\",specific_h)\n",
    "    print(\"The general boundary after: \",i+1,\"intance is:\",general_h)\n",
    "    indices=[i for i, val in enumerate(general_h) if val ==[\"?\",\"?\",\"?\",\"?\",\"?\",\"?\"]]\n",
    "    for i in indices:\n",
    "        general_h.remove([\"?\",\"?\",\"?\",\"?\",\"?\",\"?\"])\n",
    "    return general_h,specific_h\n",
    "\n",
    "        "
   ]
  },
  {
   "cell_type": "code",
   "execution_count": 14,
   "id": "935476e8-256a-485e-b30e-347cc9eb36c4",
   "metadata": {},
   "outputs": [
    {
     "name": "stdout",
     "output_type": "stream",
     "text": [
      "Initialization of Specific_h and general_h\n",
      "Specific_Boundary: ['Sunny' 'Warm' 'Normal' 'Strong' 'Warm' 'Same']\n",
      "Generic Boundarries: [['?', '?', '?', '?', '?', '?'], ['?', '?', '?', '?', '?', '?'], ['?', '?', '?', '?', '?', '?'], ['?', '?', '?', '?', '?', '?'], ['?', '?', '?', '?', '?', '?'], ['?', '?', '?', '?', '?', '?']]\n",
      "Instance: 1 is ['Sunny' 'Warm' 'Normal' 'Strong' 'Warm' 'Same']\n",
      "Instance is positive\n",
      "Instance: 2 is ['Sunny' 'Warm' 'High' 'Strong' 'Warm' 'Same']\n",
      "Instance is positive\n",
      "Instance: 3 is ['Rainy' 'Cold' 'High' 'Strong' 'Warm' 'Change']\n",
      "Instance is Negative\n",
      "Instance: 4 is ['Sunny' 'Warm' 'High' 'Strong' 'Cool' 'Change']\n",
      "Instance is positive\n",
      "The specific boundary  after: 4 intance is: ['Sunny' 'Warm' '?' 'Strong' '?' '?']\n",
      "The general boundary after:  4 intance is: [['Sunny', '?', '?', '?', '?', '?'], ['?', 'Warm', '?', '?', '?', '?'], ['?', '?', '?', '?', '?', '?'], ['?', '?', '?', '?', '?', '?'], ['?', '?', '?', '?', '?', '?'], ['?', '?', '?', '?', '?', '?']]\n",
      "Final  specific_h: ['Sunny' 'Warm' '?' 'Strong' '?' '?']\n",
      "Final general_h: [['Sunny', '?', '?', '?', '?', '?'], ['?', 'Warm', '?', '?', '?', '?']]\n"
     ]
    }
   ],
   "source": [
    "g_final,s_final=learn(concepts,target)\n",
    "print(\"Final  specific_h:\",s_final)\n",
    "print(\"Final general_h:\",g_final)"
   ]
  },
  {
   "cell_type": "code",
   "execution_count": null,
   "id": "8433ead5-6845-46ee-8354-f24494d85828",
   "metadata": {},
   "outputs": [],
   "source": []
  }
 ],
 "metadata": {
  "kernelspec": {
   "display_name": "Python 3",
   "language": "python",
   "name": "python3"
  },
  "language_info": {
   "codemirror_mode": {
    "name": "ipython",
    "version": 3
   },
   "file_extension": ".py",
   "mimetype": "text/x-python",
   "name": "python",
   "nbconvert_exporter": "python",
   "pygments_lexer": "ipython3",
   "version": "3.8.8"
  }
 },
 "nbformat": 4,
 "nbformat_minor": 5
}
